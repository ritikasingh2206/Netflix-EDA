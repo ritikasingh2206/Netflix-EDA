{
 "cells": [
  {
   "cell_type": "code",
   "execution_count": 152,
   "id": "339d7b32",
   "metadata": {},
   "outputs": [],
   "source": [
    "import numpy as np\n",
    "import pandas as pd\n",
    "import matplotlib.pyplot as plt\n",
    "import seaborn as sns\n",
    "import math as sm\n",
    "import warnings\n",
    "warnings.filterwarnings('ignore')\n",
    "from PIL import Image as Im "
   ]
  },
  {
   "cell_type": "code",
   "execution_count": 153,
   "id": "70c2cf94",
   "metadata": {},
   "outputs": [],
   "source": [
    "df = pd.read_csv(r\"C:\\Users\\hp\\OneDrive\\Documents\\Netflix Dataset.csv\")"
   ]
  },
  {
   "cell_type": "code",
   "execution_count": 154,
   "id": "29e50143",
   "metadata": {},
   "outputs": [
    {
     "data": {
      "text/html": [
       "<div>\n",
       "<style scoped>\n",
       "    .dataframe tbody tr th:only-of-type {\n",
       "        vertical-align: middle;\n",
       "    }\n",
       "\n",
       "    .dataframe tbody tr th {\n",
       "        vertical-align: top;\n",
       "    }\n",
       "\n",
       "    .dataframe thead th {\n",
       "        text-align: right;\n",
       "    }\n",
       "</style>\n",
       "<table border=\"1\" class=\"dataframe\">\n",
       "  <thead>\n",
       "    <tr style=\"text-align: right;\">\n",
       "      <th></th>\n",
       "      <th>Title</th>\n",
       "      <th>Genre</th>\n",
       "      <th>Tags</th>\n",
       "      <th>Languages</th>\n",
       "      <th>Series or Movie</th>\n",
       "      <th>Hidden Gem Score</th>\n",
       "      <th>Country Availability</th>\n",
       "      <th>Runtime</th>\n",
       "      <th>Director</th>\n",
       "      <th>Writer</th>\n",
       "      <th>...</th>\n",
       "      <th>Netflix Link</th>\n",
       "      <th>IMDb Link</th>\n",
       "      <th>Summary</th>\n",
       "      <th>IMDb Votes</th>\n",
       "      <th>Image</th>\n",
       "      <th>Poster</th>\n",
       "      <th>TMDb Trailer</th>\n",
       "      <th>Trailer Site</th>\n",
       "      <th>Unnamed: 29</th>\n",
       "      <th>Unnamed: 30</th>\n",
       "    </tr>\n",
       "  </thead>\n",
       "  <tbody>\n",
       "    <tr>\n",
       "      <th>0</th>\n",
       "      <td>Lets Fight Ghost</td>\n",
       "      <td>Crime, Drama, Fantasy, Horror, Romance</td>\n",
       "      <td>Comedy Programmes,Romantic TV Comedies,Horror ...</td>\n",
       "      <td>Swedish, Spanish</td>\n",
       "      <td>Series</td>\n",
       "      <td>4.3</td>\n",
       "      <td>Thailand</td>\n",
       "      <td>&lt; 30 minutes</td>\n",
       "      <td>Tomas Alfredson</td>\n",
       "      <td>John Ajvide Lindqvist</td>\n",
       "      <td>...</td>\n",
       "      <td>https://www.netflix.com/watch/81415947</td>\n",
       "      <td>https://www.imdb.com/title/tt1139797</td>\n",
       "      <td>A med student with a supernatural gift tries t...</td>\n",
       "      <td>205926.0</td>\n",
       "      <td>https://occ-0-4708-64.1.nflxso.net/dnm/api/v6/...</td>\n",
       "      <td>https://m.media-amazon.com/images/M/MV5BOWM4NT...</td>\n",
       "      <td>https://www.youtube.com/watch?v=LqB6XJix-dM</td>\n",
       "      <td>YouTube</td>\n",
       "      <td>NaN</td>\n",
       "      <td>NaN</td>\n",
       "    </tr>\n",
       "    <tr>\n",
       "      <th>1</th>\n",
       "      <td>HOW TO BUILD A GIRL</td>\n",
       "      <td>Comedy</td>\n",
       "      <td>Dramas,Comedies,Films Based on Books,British</td>\n",
       "      <td>English</td>\n",
       "      <td>Movie</td>\n",
       "      <td>7.0</td>\n",
       "      <td>Canada</td>\n",
       "      <td>1-2 hour</td>\n",
       "      <td>Coky Giedroyc</td>\n",
       "      <td>Caitlin Moran</td>\n",
       "      <td>...</td>\n",
       "      <td>https://www.netflix.com/watch/81041267</td>\n",
       "      <td>https://www.imdb.com/title/tt4193072</td>\n",
       "      <td>When nerdy Johanna moves to London, things get...</td>\n",
       "      <td>2838.0</td>\n",
       "      <td>https://occ-0-1081-999.1.nflxso.net/dnm/api/v6...</td>\n",
       "      <td>https://m.media-amazon.com/images/M/MV5BZGUyN2...</td>\n",
       "      <td>https://www.youtube.com/watch?v=eIbcxPy4okQ</td>\n",
       "      <td>YouTube</td>\n",
       "      <td>NaN</td>\n",
       "      <td>NaN</td>\n",
       "    </tr>\n",
       "    <tr>\n",
       "      <th>2</th>\n",
       "      <td>The Con-Heartist</td>\n",
       "      <td>Comedy, Romance</td>\n",
       "      <td>Romantic Comedies,Comedies,Romantic Films,Thai...</td>\n",
       "      <td>Thai</td>\n",
       "      <td>Movie</td>\n",
       "      <td>8.6</td>\n",
       "      <td>Thailand</td>\n",
       "      <td>&gt; 2 hrs</td>\n",
       "      <td>Mez Tharatorn</td>\n",
       "      <td>Pattaranad Bhiboonsawade, Mez Tharatorn, Thods...</td>\n",
       "      <td>...</td>\n",
       "      <td>https://www.netflix.com/watch/81306155</td>\n",
       "      <td>https://www.imdb.com/title/tt13393728</td>\n",
       "      <td>After her ex-boyfriend cons her out of a large...</td>\n",
       "      <td>131.0</td>\n",
       "      <td>https://occ-0-2188-64.1.nflxso.net/dnm/api/v6/...</td>\n",
       "      <td>https://m.media-amazon.com/images/M/MV5BODAzOG...</td>\n",
       "      <td>https://www.youtube.com/watch?v=md3CmFLGK6Y</td>\n",
       "      <td>YouTube</td>\n",
       "      <td>NaN</td>\n",
       "      <td>NaN</td>\n",
       "    </tr>\n",
       "    <tr>\n",
       "      <th>3</th>\n",
       "      <td>Gleboka woda</td>\n",
       "      <td>Drama</td>\n",
       "      <td>TV Dramas,Polish TV Shows,Social Issue TV Dramas</td>\n",
       "      <td>Polish</td>\n",
       "      <td>Series</td>\n",
       "      <td>8.7</td>\n",
       "      <td>Poland</td>\n",
       "      <td>&lt; 30 minutes</td>\n",
       "      <td>NaN</td>\n",
       "      <td>NaN</td>\n",
       "      <td>...</td>\n",
       "      <td>https://www.netflix.com/watch/81307527</td>\n",
       "      <td>https://www.imdb.com/title/tt2300049</td>\n",
       "      <td>A group of social welfare workers led by their...</td>\n",
       "      <td>47.0</td>\n",
       "      <td>https://occ-0-2508-2706.1.nflxso.net/dnm/api/v...</td>\n",
       "      <td>https://m.media-amazon.com/images/M/MV5BMTc0Nz...</td>\n",
       "      <td>https://www.youtube.com/watch?v=5kyF2vy63r0</td>\n",
       "      <td>YouTube</td>\n",
       "      <td>NaN</td>\n",
       "      <td>NaN</td>\n",
       "    </tr>\n",
       "    <tr>\n",
       "      <th>4</th>\n",
       "      <td>Only a Mother</td>\n",
       "      <td>Drama</td>\n",
       "      <td>Social Issue Dramas,Dramas,Movies Based on Boo...</td>\n",
       "      <td>Swedish</td>\n",
       "      <td>Movie</td>\n",
       "      <td>8.3</td>\n",
       "      <td>Lithuania,Poland,France,Italy,Spain,Greece,Bel...</td>\n",
       "      <td>1-2 hour</td>\n",
       "      <td>Alf Sjöberg</td>\n",
       "      <td>Ivar Lo-Johansson</td>\n",
       "      <td>...</td>\n",
       "      <td>https://www.netflix.com/watch/81382068</td>\n",
       "      <td>https://www.imdb.com/title/tt0041155</td>\n",
       "      <td>An unhappily married farm worker struggling to...</td>\n",
       "      <td>88.0</td>\n",
       "      <td>https://occ-0-2851-41.1.nflxso.net/dnm/api/v6/...</td>\n",
       "      <td>https://m.media-amazon.com/images/M/MV5BMjVmMz...</td>\n",
       "      <td>https://www.youtube.com/watch?v=H0itWKFwMpQ</td>\n",
       "      <td>YouTube</td>\n",
       "      <td>NaN</td>\n",
       "      <td>NaN</td>\n",
       "    </tr>\n",
       "  </tbody>\n",
       "</table>\n",
       "<p>5 rows × 31 columns</p>\n",
       "</div>"
      ],
      "text/plain": [
       "                 Title                                   Genre  \\\n",
       "0     Lets Fight Ghost  Crime, Drama, Fantasy, Horror, Romance   \n",
       "1  HOW TO BUILD A GIRL                                  Comedy   \n",
       "2     The Con-Heartist                         Comedy, Romance   \n",
       "3         Gleboka woda                                   Drama   \n",
       "4        Only a Mother                                   Drama   \n",
       "\n",
       "                                                Tags         Languages  \\\n",
       "0  Comedy Programmes,Romantic TV Comedies,Horror ...  Swedish, Spanish   \n",
       "1       Dramas,Comedies,Films Based on Books,British           English   \n",
       "2  Romantic Comedies,Comedies,Romantic Films,Thai...              Thai   \n",
       "3   TV Dramas,Polish TV Shows,Social Issue TV Dramas            Polish   \n",
       "4  Social Issue Dramas,Dramas,Movies Based on Boo...           Swedish   \n",
       "\n",
       "  Series or Movie  Hidden Gem Score  \\\n",
       "0          Series               4.3   \n",
       "1           Movie               7.0   \n",
       "2           Movie               8.6   \n",
       "3          Series               8.7   \n",
       "4           Movie               8.3   \n",
       "\n",
       "                                Country Availability       Runtime  \\\n",
       "0                                           Thailand  < 30 minutes   \n",
       "1                                             Canada      1-2 hour   \n",
       "2                                           Thailand       > 2 hrs   \n",
       "3                                             Poland  < 30 minutes   \n",
       "4  Lithuania,Poland,France,Italy,Spain,Greece,Bel...      1-2 hour   \n",
       "\n",
       "          Director                                             Writer  ...  \\\n",
       "0  Tomas Alfredson                              John Ajvide Lindqvist  ...   \n",
       "1    Coky Giedroyc                                      Caitlin Moran  ...   \n",
       "2    Mez Tharatorn  Pattaranad Bhiboonsawade, Mez Tharatorn, Thods...  ...   \n",
       "3              NaN                                                NaN  ...   \n",
       "4      Alf Sjöberg                                  Ivar Lo-Johansson  ...   \n",
       "\n",
       "                             Netflix Link  \\\n",
       "0  https://www.netflix.com/watch/81415947   \n",
       "1  https://www.netflix.com/watch/81041267   \n",
       "2  https://www.netflix.com/watch/81306155   \n",
       "3  https://www.netflix.com/watch/81307527   \n",
       "4  https://www.netflix.com/watch/81382068   \n",
       "\n",
       "                               IMDb Link  \\\n",
       "0   https://www.imdb.com/title/tt1139797   \n",
       "1   https://www.imdb.com/title/tt4193072   \n",
       "2  https://www.imdb.com/title/tt13393728   \n",
       "3   https://www.imdb.com/title/tt2300049   \n",
       "4   https://www.imdb.com/title/tt0041155   \n",
       "\n",
       "                                             Summary  IMDb Votes  \\\n",
       "0  A med student with a supernatural gift tries t...    205926.0   \n",
       "1  When nerdy Johanna moves to London, things get...      2838.0   \n",
       "2  After her ex-boyfriend cons her out of a large...       131.0   \n",
       "3  A group of social welfare workers led by their...        47.0   \n",
       "4  An unhappily married farm worker struggling to...        88.0   \n",
       "\n",
       "                                               Image  \\\n",
       "0  https://occ-0-4708-64.1.nflxso.net/dnm/api/v6/...   \n",
       "1  https://occ-0-1081-999.1.nflxso.net/dnm/api/v6...   \n",
       "2  https://occ-0-2188-64.1.nflxso.net/dnm/api/v6/...   \n",
       "3  https://occ-0-2508-2706.1.nflxso.net/dnm/api/v...   \n",
       "4  https://occ-0-2851-41.1.nflxso.net/dnm/api/v6/...   \n",
       "\n",
       "                                              Poster  \\\n",
       "0  https://m.media-amazon.com/images/M/MV5BOWM4NT...   \n",
       "1  https://m.media-amazon.com/images/M/MV5BZGUyN2...   \n",
       "2  https://m.media-amazon.com/images/M/MV5BODAzOG...   \n",
       "3  https://m.media-amazon.com/images/M/MV5BMTc0Nz...   \n",
       "4  https://m.media-amazon.com/images/M/MV5BMjVmMz...   \n",
       "\n",
       "                                  TMDb Trailer Trailer Site Unnamed: 29  \\\n",
       "0  https://www.youtube.com/watch?v=LqB6XJix-dM      YouTube         NaN   \n",
       "1  https://www.youtube.com/watch?v=eIbcxPy4okQ      YouTube         NaN   \n",
       "2  https://www.youtube.com/watch?v=md3CmFLGK6Y      YouTube         NaN   \n",
       "3  https://www.youtube.com/watch?v=5kyF2vy63r0      YouTube         NaN   \n",
       "4  https://www.youtube.com/watch?v=H0itWKFwMpQ      YouTube         NaN   \n",
       "\n",
       "  Unnamed: 30  \n",
       "0         NaN  \n",
       "1         NaN  \n",
       "2         NaN  \n",
       "3         NaN  \n",
       "4         NaN  \n",
       "\n",
       "[5 rows x 31 columns]"
      ]
     },
     "execution_count": 154,
     "metadata": {},
     "output_type": "execute_result"
    }
   ],
   "source": [
    "df.head()"
   ]
  },
  {
   "cell_type": "code",
   "execution_count": 155,
   "id": "e6ea5536",
   "metadata": {},
   "outputs": [
    {
     "data": {
      "text/plain": [
       "Index(['Title', 'Genre', 'Tags', 'Languages', 'Series or Movie',\n",
       "       'Hidden Gem Score', 'Country Availability', 'Runtime', 'Director',\n",
       "       'Writer', 'Actors', 'View Rating', 'IMDb Score',\n",
       "       'Rotten Tomatoes Score', 'Metacritic Score', 'Awards Received',\n",
       "       'Awards Nominated For', 'Boxoffice', 'Release Date',\n",
       "       'Netflix Release Date', 'Production House', 'Netflix Link', 'IMDb Link',\n",
       "       'Summary', 'IMDb Votes', 'Image', 'Poster', 'TMDb Trailer',\n",
       "       'Trailer Site', 'Unnamed: 29', 'Unnamed: 30'],\n",
       "      dtype='object')"
      ]
     },
     "execution_count": 155,
     "metadata": {},
     "output_type": "execute_result"
    }
   ],
   "source": [
    "df.columns"
   ]
  },
  {
   "cell_type": "code",
   "execution_count": 156,
   "id": "caa620cf",
   "metadata": {},
   "outputs": [
    {
     "data": {
      "text/plain": [
       "(9425, 31)"
      ]
     },
     "execution_count": 156,
     "metadata": {},
     "output_type": "execute_result"
    }
   ],
   "source": [
    "df.shape"
   ]
  },
  {
   "cell_type": "code",
   "execution_count": 157,
   "id": "86c870c2",
   "metadata": {},
   "outputs": [
    {
     "data": {
      "text/plain": [
       "True"
      ]
     },
     "execution_count": 157,
     "metadata": {},
     "output_type": "execute_result"
    }
   ],
   "source": [
    "## check is any null values are available in data\n",
    "df.isnull().values.any()"
   ]
  },
  {
   "cell_type": "code",
   "execution_count": 158,
   "id": "2ba9421c",
   "metadata": {
    "scrolled": false
   },
   "outputs": [
    {
     "data": {
      "text/plain": [
       "Title                       0\n",
       "Genre                      25\n",
       "Tags                       36\n",
       "Languages                 159\n",
       "Series or Movie             0\n",
       "Hidden Gem Score           10\n",
       "Country Availability       11\n",
       "Runtime                     1\n",
       "Director                 2305\n",
       "Writer                   1810\n",
       "Actors                    111\n",
       "View Rating              2598\n",
       "IMDb Score                  8\n",
       "Rotten Tomatoes Score    3980\n",
       "Metacritic Score         5343\n",
       "Awards Received          4199\n",
       "Awards Nominated For     3049\n",
       "Boxoffice                5671\n",
       "Release Date              208\n",
       "Netflix Release Date        0\n",
       "Production House         5032\n",
       "Netflix Link                0\n",
       "IMDb Link                 324\n",
       "Summary                     5\n",
       "IMDb Votes                 10\n",
       "Image                       0\n",
       "Poster                    938\n",
       "TMDb Trailer                0\n",
       "Trailer Site                1\n",
       "Unnamed: 29              9425\n",
       "Unnamed: 30              9425\n",
       "dtype: int64"
      ]
     },
     "execution_count": 158,
     "metadata": {},
     "output_type": "execute_result"
    }
   ],
   "source": [
    "## Checking how much missing values are available in each columns \n",
    "df.isnull().sum()\n",
    "## df.isna().sum()"
   ]
  },
  {
   "cell_type": "code",
   "execution_count": 159,
   "id": "5ea9c920",
   "metadata": {},
   "outputs": [
    {
     "data": {
      "text/plain": [
       "Title                      0.000000\n",
       "Genre                      0.265252\n",
       "Tags                       0.381963\n",
       "Languages                  1.687003\n",
       "Series or Movie            0.000000\n",
       "Hidden Gem Score           0.106101\n",
       "Country Availability       0.116711\n",
       "Runtime                    0.010610\n",
       "Director                  24.456233\n",
       "Writer                    19.204244\n",
       "Actors                     1.177719\n",
       "View Rating               27.564987\n",
       "IMDb Score                 0.084881\n",
       "Rotten Tomatoes Score     42.228117\n",
       "Metacritic Score          56.689655\n",
       "Awards Received           44.551724\n",
       "Awards Nominated For      32.350133\n",
       "Boxoffice                 60.169761\n",
       "Release Date               2.206897\n",
       "Netflix Release Date       0.000000\n",
       "Production House          53.389920\n",
       "Netflix Link               0.000000\n",
       "IMDb Link                  3.437666\n",
       "Summary                    0.053050\n",
       "IMDb Votes                 0.106101\n",
       "Image                      0.000000\n",
       "Poster                     9.952255\n",
       "TMDb Trailer               0.000000\n",
       "Trailer Site               0.010610\n",
       "Unnamed: 29              100.000000\n",
       "Unnamed: 30              100.000000\n",
       "dtype: float64"
      ]
     },
     "execution_count": 159,
     "metadata": {},
     "output_type": "execute_result"
    }
   ],
   "source": [
    "df.isnull().sum()*100/len(df)"
   ]
  },
  {
   "cell_type": "code",
   "execution_count": 160,
   "id": "3d888c1c",
   "metadata": {},
   "outputs": [
    {
     "data": {
      "text/plain": [
       "<Axes: >"
      ]
     },
     "execution_count": 160,
     "metadata": {},
     "output_type": "execute_result"
    },
    {
     "data": {
      "image/png": "[encoded data removed]",
      "text/plain": [
       "<Figure size 640x480 with 2 Axes>"
      ]
     },
     "metadata": {},
     "output_type": "display_data"
    }
   ],
   "source": [
    "## visualization representation of total null values\n",
    "sns.heatmap(df.isnull(), yticklabels=False,cmap='viridis')"
   ]
  },
  {
   "cell_type": "code",
   "execution_count": 161,
   "id": "9a429915",
   "metadata": {},
   "outputs": [],
   "source": [
    "df.drop(['View Rating','Metacritic Score','Boxoffice','Production House','Unnamed: 29',\n",
    "         'Unnamed: 30','TMDb Trailer','Image','Poster','Netflix Link','IMDb Link','Summary'],axis=1,inplace=True)"
   ]
  },
  {
   "cell_type": "code",
   "execution_count": 162,
   "id": "edf6d164",
   "metadata": {},
   "outputs": [],
   "source": [
    "df.drop(['Tags','Trailer Site','Release Date','Netflix Release Date'],axis=1,inplace=True)"
   ]
  },
  {
   "cell_type": "code",
   "execution_count": 163,
   "id": "4afe6d05",
   "metadata": {},
   "outputs": [
    {
     "data": {
      "text/html": [
       "<div>\n",
       "<style scoped>\n",
       "    .dataframe tbody tr th:only-of-type {\n",
       "        vertical-align: middle;\n",
       "    }\n",
       "\n",
       "    .dataframe tbody tr th {\n",
       "        vertical-align: top;\n",
       "    }\n",
       "\n",
       "    .dataframe thead th {\n",
       "        text-align: right;\n",
       "    }\n",
       "</style>\n",
       "<table border=\"1\" class=\"dataframe\">\n",
       "  <thead>\n",
       "    <tr style=\"text-align: right;\">\n",
       "      <th></th>\n",
       "      <th>Title</th>\n",
       "      <th>Genre</th>\n",
       "      <th>Languages</th>\n",
       "      <th>Series or Movie</th>\n",
       "      <th>Hidden Gem Score</th>\n",
       "      <th>Country Availability</th>\n",
       "      <th>Runtime</th>\n",
       "      <th>Director</th>\n",
       "      <th>Writer</th>\n",
       "      <th>Actors</th>\n",
       "      <th>IMDb Score</th>\n",
       "      <th>Rotten Tomatoes Score</th>\n",
       "      <th>Awards Received</th>\n",
       "      <th>Awards Nominated For</th>\n",
       "      <th>IMDb Votes</th>\n",
       "    </tr>\n",
       "  </thead>\n",
       "  <tbody>\n",
       "    <tr>\n",
       "      <th>0</th>\n",
       "      <td>Lets Fight Ghost</td>\n",
       "      <td>Crime, Drama, Fantasy, Horror, Romance</td>\n",
       "      <td>Swedish, Spanish</td>\n",
       "      <td>Series</td>\n",
       "      <td>4.3</td>\n",
       "      <td>Thailand</td>\n",
       "      <td>&lt; 30 minutes</td>\n",
       "      <td>Tomas Alfredson</td>\n",
       "      <td>John Ajvide Lindqvist</td>\n",
       "      <td>Lina Leandersson, Kåre Hedebrant, Per Ragnar, ...</td>\n",
       "      <td>7.9</td>\n",
       "      <td>98.0</td>\n",
       "      <td>74.0</td>\n",
       "      <td>57.0</td>\n",
       "      <td>205926.0</td>\n",
       "    </tr>\n",
       "    <tr>\n",
       "      <th>1</th>\n",
       "      <td>HOW TO BUILD A GIRL</td>\n",
       "      <td>Comedy</td>\n",
       "      <td>English</td>\n",
       "      <td>Movie</td>\n",
       "      <td>7.0</td>\n",
       "      <td>Canada</td>\n",
       "      <td>1-2 hour</td>\n",
       "      <td>Coky Giedroyc</td>\n",
       "      <td>Caitlin Moran</td>\n",
       "      <td>Cleo, Paddy Considine, Beanie Feldstein, Dónal...</td>\n",
       "      <td>5.8</td>\n",
       "      <td>79.0</td>\n",
       "      <td>1.0</td>\n",
       "      <td>NaN</td>\n",
       "      <td>2838.0</td>\n",
       "    </tr>\n",
       "    <tr>\n",
       "      <th>2</th>\n",
       "      <td>The Con-Heartist</td>\n",
       "      <td>Comedy, Romance</td>\n",
       "      <td>Thai</td>\n",
       "      <td>Movie</td>\n",
       "      <td>8.6</td>\n",
       "      <td>Thailand</td>\n",
       "      <td>&gt; 2 hrs</td>\n",
       "      <td>Mez Tharatorn</td>\n",
       "      <td>Pattaranad Bhiboonsawade, Mez Tharatorn, Thods...</td>\n",
       "      <td>Kathaleeya McIntosh, Nadech Kugimiya, Pimchano...</td>\n",
       "      <td>7.4</td>\n",
       "      <td>NaN</td>\n",
       "      <td>NaN</td>\n",
       "      <td>NaN</td>\n",
       "      <td>131.0</td>\n",
       "    </tr>\n",
       "    <tr>\n",
       "      <th>3</th>\n",
       "      <td>Gleboka woda</td>\n",
       "      <td>Drama</td>\n",
       "      <td>Polish</td>\n",
       "      <td>Series</td>\n",
       "      <td>8.7</td>\n",
       "      <td>Poland</td>\n",
       "      <td>&lt; 30 minutes</td>\n",
       "      <td>NaN</td>\n",
       "      <td>NaN</td>\n",
       "      <td>Katarzyna Maciag, Piotr Nowak, Marcin Dorocins...</td>\n",
       "      <td>7.5</td>\n",
       "      <td>NaN</td>\n",
       "      <td>2.0</td>\n",
       "      <td>4.0</td>\n",
       "      <td>47.0</td>\n",
       "    </tr>\n",
       "    <tr>\n",
       "      <th>4</th>\n",
       "      <td>Only a Mother</td>\n",
       "      <td>Drama</td>\n",
       "      <td>Swedish</td>\n",
       "      <td>Movie</td>\n",
       "      <td>8.3</td>\n",
       "      <td>Lithuania,Poland,France,Italy,Spain,Greece,Bel...</td>\n",
       "      <td>1-2 hour</td>\n",
       "      <td>Alf Sjöberg</td>\n",
       "      <td>Ivar Lo-Johansson</td>\n",
       "      <td>Hugo Björne, Eva Dahlbeck, Ulf Palme, Ragnar F...</td>\n",
       "      <td>6.7</td>\n",
       "      <td>NaN</td>\n",
       "      <td>2.0</td>\n",
       "      <td>1.0</td>\n",
       "      <td>88.0</td>\n",
       "    </tr>\n",
       "  </tbody>\n",
       "</table>\n",
       "</div>"
      ],
      "text/plain": [
       "                 Title                                   Genre  \\\n",
       "0     Lets Fight Ghost  Crime, Drama, Fantasy, Horror, Romance   \n",
       "1  HOW TO BUILD A GIRL                                  Comedy   \n",
       "2     The Con-Heartist                         Comedy, Romance   \n",
       "3         Gleboka woda                                   Drama   \n",
       "4        Only a Mother                                   Drama   \n",
       "\n",
       "          Languages Series or Movie  Hidden Gem Score  \\\n",
       "0  Swedish, Spanish          Series               4.3   \n",
       "1           English           Movie               7.0   \n",
       "2              Thai           Movie               8.6   \n",
       "3            Polish          Series               8.7   \n",
       "4           Swedish           Movie               8.3   \n",
       "\n",
       "                                Country Availability       Runtime  \\\n",
       "0                                           Thailand  < 30 minutes   \n",
       "1                                             Canada      1-2 hour   \n",
       "2                                           Thailand       > 2 hrs   \n",
       "3                                             Poland  < 30 minutes   \n",
       "4  Lithuania,Poland,France,Italy,Spain,Greece,Bel...      1-2 hour   \n",
       "\n",
       "          Director                                             Writer  \\\n",
       "0  Tomas Alfredson                              John Ajvide Lindqvist   \n",
       "1    Coky Giedroyc                                      Caitlin Moran   \n",
       "2    Mez Tharatorn  Pattaranad Bhiboonsawade, Mez Tharatorn, Thods...   \n",
       "3              NaN                                                NaN   \n",
       "4      Alf Sjöberg                                  Ivar Lo-Johansson   \n",
       "\n",
       "                                              Actors  IMDb Score  \\\n",
       "0  Lina Leandersson, Kåre Hedebrant, Per Ragnar, ...         7.9   \n",
       "1  Cleo, Paddy Considine, Beanie Feldstein, Dónal...         5.8   \n",
       "2  Kathaleeya McIntosh, Nadech Kugimiya, Pimchano...         7.4   \n",
       "3  Katarzyna Maciag, Piotr Nowak, Marcin Dorocins...         7.5   \n",
       "4  Hugo Björne, Eva Dahlbeck, Ulf Palme, Ragnar F...         6.7   \n",
       "\n",
       "   Rotten Tomatoes Score  Awards Received  Awards Nominated For  IMDb Votes  \n",
       "0                   98.0             74.0                  57.0    205926.0  \n",
       "1                   79.0              1.0                   NaN      2838.0  \n",
       "2                    NaN              NaN                   NaN       131.0  \n",
       "3                    NaN              2.0                   4.0        47.0  \n",
       "4                    NaN              2.0                   1.0        88.0  "
      ]
     },
     "execution_count": 163,
     "metadata": {},
     "output_type": "execute_result"
    }
   ],
   "source": [
    "df.head()"
   ]
  },
  {
   "cell_type": "code",
   "execution_count": 164,
   "id": "6d598fa3",
   "metadata": {},
   "outputs": [
    {
     "data": {
      "text/plain": [
       "<Axes: >"
      ]
     },
     "execution_count": 164,
     "metadata": {},
     "output_type": "execute_result"
    },
    {
     "data": {
      "image/png": "[encoded data removed]",
      "text/plain": [
       "<Figure size 640x480 with 2 Axes>"
      ]
     },
     "metadata": {},
     "output_type": "display_data"
    }
   ],
   "source": [
    "## visualization representation of total null values\n",
    "sns.heatmap(df.isnull(), yticklabels=False,cmap='viridis')"
   ]
  },
  {
   "cell_type": "code",
   "execution_count": 165,
   "id": "617900e8",
   "metadata": {},
   "outputs": [],
   "source": [
    "a = df.isnull().sum()*100/len(df)"
   ]
  },
  {
   "cell_type": "code",
   "execution_count": 166,
   "id": "f98aa0bf",
   "metadata": {},
   "outputs": [
    {
     "data": {
      "text/plain": [
       "Awards Received          44.551724\n",
       "Rotten Tomatoes Score    42.228117\n",
       "Awards Nominated For     32.350133\n",
       "Director                 24.456233\n",
       "Writer                   19.204244\n",
       "Languages                 1.687003\n",
       "Actors                    1.177719\n",
       "Genre                     0.265252\n",
       "Country Availability      0.116711\n",
       "Hidden Gem Score          0.106101\n",
       "IMDb Votes                0.106101\n",
       "IMDb Score                0.084881\n",
       "Runtime                   0.010610\n",
       "Title                     0.000000\n",
       "Series or Movie           0.000000\n",
       "dtype: float64"
      ]
     },
     "execution_count": 166,
     "metadata": {},
     "output_type": "execute_result"
    }
   ],
   "source": [
    "a.sort_values(ascending=False)"
   ]
  },
  {
   "cell_type": "code",
   "execution_count": 167,
   "id": "10a7eee1",
   "metadata": {},
   "outputs": [],
   "source": [
    "df.dropna(subset=['Director'],inplace=True)\n",
    "df.dropna(subset=['Country Availability'],inplace=True)\n",
    "df.dropna(subset=['Languages'],inplace=True)\n",
    "df.dropna(subset=['Actors'],inplace=True)\n",
    "df.dropna(subset=['Genre'],inplace=True)\n",
    "df.dropna(subset=['Writer'],inplace=True)"
   ]
  },
  {
   "cell_type": "code",
   "execution_count": 168,
   "id": "56cb8f77",
   "metadata": {},
   "outputs": [
    {
     "data": {
      "text/plain": [
       "Title                       0\n",
       "Genre                       0\n",
       "Languages                   0\n",
       "Series or Movie             0\n",
       "Hidden Gem Score            3\n",
       "Country Availability        0\n",
       "Runtime                     0\n",
       "Director                    0\n",
       "Writer                      0\n",
       "Actors                      0\n",
       "IMDb Score                  3\n",
       "Rotten Tomatoes Score    1424\n",
       "Awards Received          2529\n",
       "Awards Nominated For     1678\n",
       "IMDb Votes                  3\n",
       "dtype: int64"
      ]
     },
     "execution_count": 168,
     "metadata": {},
     "output_type": "execute_result"
    }
   ],
   "source": [
    "df.isnull().sum()"
   ]
  },
  {
   "cell_type": "code",
   "execution_count": 169,
   "id": "09c88eab",
   "metadata": {},
   "outputs": [
    {
     "data": {
      "text/plain": [
       "(6694, 15)"
      ]
     },
     "execution_count": 169,
     "metadata": {},
     "output_type": "execute_result"
    }
   ],
   "source": [
    "df.shape"
   ]
  },
  {
   "cell_type": "code",
   "execution_count": 170,
   "id": "066bb533",
   "metadata": {},
   "outputs": [],
   "source": [
    "df['Hidden Gem Score'].ffill(axis=0,inplace=True)\n",
    "df['IMDb Score'].bfill(axis=0,inplace=True)\n",
    "df['IMDb Votes'] = df['IMDb Votes'].fillna(df['IMDb Votes'].mode()[0])"
   ]
  },
  {
   "cell_type": "code",
   "execution_count": 171,
   "id": "ccdfc453",
   "metadata": {},
   "outputs": [
    {
     "data": {
      "text/plain": [
       "Title                       0\n",
       "Genre                       0\n",
       "Languages                   0\n",
       "Series or Movie             0\n",
       "Hidden Gem Score            0\n",
       "Country Availability        0\n",
       "Runtime                     0\n",
       "Director                    0\n",
       "Writer                      0\n",
       "Actors                      0\n",
       "IMDb Score                  0\n",
       "Rotten Tomatoes Score    1424\n",
       "Awards Received          2529\n",
       "Awards Nominated For     1678\n",
       "IMDb Votes                  0\n",
       "dtype: int64"
      ]
     },
     "execution_count": 171,
     "metadata": {},
     "output_type": "execute_result"
    }
   ],
   "source": [
    "df.isnull().sum()"
   ]
  },
  {
   "cell_type": "code",
   "execution_count": 172,
   "id": "a0df8e04",
   "metadata": {},
   "outputs": [],
   "source": [
    "df['Rotten Tomatoes Score'].fillna(df['Rotten Tomatoes Score'].mean(),inplace=True)"
   ]
  },
  {
   "cell_type": "markdown",
   "id": "16610c5f",
   "metadata": {},
   "source": [
    "Replacing Empty Value with 0 for 'Awards Received' & 'Awards Nominated For' by 0 as, there might be a chance were the respesctive 'Series or Movie' might have not got any recieve."
   ]
  },
  {
   "cell_type": "code",
   "execution_count": 173,
   "id": "7c9b3562",
   "metadata": {},
   "outputs": [],
   "source": [
    "## Using fillna method with the value 0\n",
    "df['Awards Received'] = df['Awards Received'].fillna(0)"
   ]
  },
  {
   "cell_type": "code",
   "execution_count": 174,
   "id": "e624fdcc",
   "metadata": {},
   "outputs": [],
   "source": [
    "##Using replace method along with np.nan command to make nan value as 0\n",
    "df['Awards Nominated For'] = df['Awards Nominated For'].replace(np.nan,0)"
   ]
  },
  {
   "cell_type": "code",
   "execution_count": 175,
   "id": "d524f5a5",
   "metadata": {},
   "outputs": [
    {
     "data": {
      "text/plain": [
       "Title                    0\n",
       "Genre                    0\n",
       "Languages                0\n",
       "Series or Movie          0\n",
       "Hidden Gem Score         0\n",
       "Country Availability     0\n",
       "Runtime                  0\n",
       "Director                 0\n",
       "Writer                   0\n",
       "Actors                   0\n",
       "IMDb Score               0\n",
       "Rotten Tomatoes Score    0\n",
       "Awards Received          0\n",
       "Awards Nominated For     0\n",
       "IMDb Votes               0\n",
       "dtype: int64"
      ]
     },
     "execution_count": 175,
     "metadata": {},
     "output_type": "execute_result"
    }
   ],
   "source": [
    "df.isnull().sum()"
   ]
  },
  {
   "cell_type": "code",
   "execution_count": 177,
   "id": "2af41005",
   "metadata": {},
   "outputs": [
    {
     "data": {
      "text/plain": [
       "(6694, 15)"
      ]
     },
     "execution_count": 177,
     "metadata": {},
     "output_type": "execute_result"
    }
   ],
   "source": [
    "df.shape"
   ]
  },
  {
   "cell_type": "code",
   "execution_count": 179,
   "id": "7744dc47",
   "metadata": {},
   "outputs": [
    {
     "data": {
      "text/plain": [
       "<Axes: >"
      ]
     },
     "execution_count": 179,
     "metadata": {},
     "output_type": "execute_result"
    },
    {
     "data": {
      "image/png": "[encoded data removed]",
      "text/plain": [
       "<Figure size 640x480 with 2 Axes>"
      ]
     },
     "metadata": {},
     "output_type": "display_data"
    }
   ],
   "source": [
    "sns.heatmap(df.isnull(),xticklabels=True,cmap='viridis')"
   ]
  },
  {
   "cell_type": "code",
   "execution_count": 190,
   "id": "ae0997a7",
   "metadata": {},
   "outputs": [
    {
     "data": {
      "text/plain": [
       "<Axes: xlabel='Series or Movie', ylabel='count'>"
      ]
     },
     "execution_count": 190,
     "metadata": {},
     "output_type": "execute_result"
    },
    {
     "data": {
      "image/png": "[encoded data removed]",
      "text/plain": [
       "<Figure size 640x480 with 1 Axes>"
      ]
     },
     "metadata": {},
     "output_type": "display_data"
    }
   ],
   "source": [
    "sns.countplot(x=\"Series or Movie\",data=df,palette=['Blue','red'])"
   ]
  },
  {
   "cell_type": "code",
   "execution_count": 191,
   "id": "5c90d844",
   "metadata": {},
   "outputs": [
    {
     "data": {
      "text/plain": [
       "<Axes: xlabel='IMDb Score', ylabel='Count'>"
      ]
     },
     "execution_count": 191,
     "metadata": {},
     "output_type": "execute_result"
    },
    {
     "data": {
      "image/png": "[encoded data removed]",
      "text/plain": [
       "<Figure size 640x480 with 1 Axes>"
      ]
     },
     "metadata": {},
     "output_type": "display_data"
    }
   ],
   "source": [
    "sns.histplot(x=df['IMDb Score'])"
   ]
  },
  {
   "cell_type": "code",
   "execution_count": null,
   "id": "328bc664",
   "metadata": {},
   "outputs": [],
   "source": []
  },
  {
   "cell_type": "code",
   "execution_count": null,
   "id": "6a7b2d7e",
   "metadata": {},
   "outputs": [],
   "source": []
  }
 ],
 "metadata": {
  "kernelspec": {
   "display_name": "Python 3 (ipykernel)",
   "language": "python",
   "name": "python3"
  },
  "language_info": {
   "codemirror_mode": {
    "name": "ipython",
    "version": 3
   },
   "file_extension": ".py",
   "mimetype": "text/x-python",
   "name": "python",
   "nbconvert_exporter": "python",
   "pygments_lexer": "ipython3",
   "version": "3.11.5"
  }
 },
 "nbformat": 4,
 "nbformat_minor": 5
}
